{
 "cells": [
  {
   "cell_type": "markdown",
   "metadata": {},
   "source": [
    "# PCI Query Flow with LangGraph\n",
    "This notebook demonstrates a predictive customer intelligence flow using LangGraph with memory and visualization."
   ]
  },
  {
   "cell_type": "code",
   "execution_count": 19,
   "metadata": {},
   "outputs": [],
   "source": [
    "# import necessary libraries\n",
    "from langgraph.graph import StateGraph, END\n",
    "from langchain.memory import ConversationBufferMemory\n",
    "from pydantic import BaseModel\n",
    "from typing import Dict, Any\n",
    "from IPython.display import Image,display"
   ]
  },
  {
   "cell_type": "code",
   "execution_count": 13,
   "metadata": {},
   "outputs": [],
   "source": [
    "# Define the workflow state model\n",
    "class WorkflowState(BaseModel):\n",
    "    query: str\n",
    "    context: str\n",
    "    segment: str\n",
    "    suggestion: str"
   ]
  },
  {
   "cell_type": "code",
   "execution_count": 14,
   "metadata": {},
   "outputs": [],
   "source": [
    "# memory for storing conversation history\n",
    "memory = ConversationBufferMemory()"
   ]
  },
  {
   "cell_type": "code",
   "execution_count": 15,
   "metadata": {},
   "outputs": [],
   "source": [
    "# node to capture user query and context\n",
    "def query_capture_node(state: WorkflowState) -> Dict[str, Any]:\n",
    "    past_context = memory.load_memory_variables({}).get(\"history\", \"\")\n",
    "    updated_context = f\"{past_context.strip()}\\nUser Query: {state.query}\".strip()\n",
    "    memory.save_context({\"input\": state.query}, {\"output\": \"Query received\"})\n",
    "    return {\"context\": updated_context}"
   ]
  },
  {
   "cell_type": "code",
   "execution_count": 16,
   "metadata": {},
   "outputs": [],
   "source": [
    "# node to segment the user based on their query\n",
    "def segmentation_node(state: WorkflowState) -> Dict[str, Any]:\n",
    "    query = state.query.lower()\n",
    "    if \"urgent\" in query or \"problem\" in query:\n",
    "        segment = \"High-Priority Customer\"\n",
    "    elif \"buy\" in query or \"purchase\" in query:\n",
    "        segment = \"Potential Buyer\"\n",
    "    else:\n",
    "        segment = \"General Inquirer\"\n",
    "    return {\"segment\": segment}"
   ]
  },
  {
   "cell_type": "code",
   "execution_count": 17,
   "metadata": {},
   "outputs": [],
   "source": [
    "# node to provide a suggestion based on the segment\n",
    "def suggestion_node(state: WorkflowState) -> Dict[str, Any]:\n",
    "    segment = state.segment\n",
    "    if segment == \"High-Priority Customer\":\n",
    "        suggestion = \"Offer immediate support ticket escalation.\"\n",
    "    elif segment == \"Potential Buyer\":\n",
    "        suggestion = \"Recommend our premium product with a 10% discount.\"\n",
    "    else:\n",
    "        suggestion = \"Provide general product information and FAQ link.\"\n",
    "    return {\"suggestion\": suggestion}"
   ]
  },
  {
   "cell_type": "code",
   "execution_count": 21,
   "metadata": {},
   "outputs": [
    {
     "data": {
      "image/png": "[encoded data removed]",
      "text/plain": [
       "<IPython.core.display.Image object>"
      ]
     },
     "metadata": {},
     "output_type": "display_data"
    }
   ],
   "source": [
    "# Create the workflow graph\n",
    "workflow = StateGraph(WorkflowState)\n",
    "\n",
    "workflow.add_node(\"query_capture\", query_capture_node)\n",
    "workflow.add_node(\"segmentation\", segmentation_node)\n",
    "workflow.add_node(\"suggestion\", suggestion_node)\n",
    "\n",
    "workflow.set_entry_point(\"query_capture\")\n",
    "workflow.add_edge(\"query_capture\", \"segmentation\")\n",
    "workflow.add_edge(\"segmentation\", \"suggestion\")\n",
    "workflow.add_edge(\"suggestion\", END)\n",
    "\n",
    "# Visualize\n",
    "app = workflow.compile()\n",
    "display(Image(app.get_graph().draw_mermaid_png()))"
   ]
  },
  {
   "cell_type": "code",
   "execution_count": 22,
   "metadata": {},
   "outputs": [],
   "source": [
    "# Function to run the workflow with a user query\n",
    "def run_workflow(query: str):\n",
    "    state = WorkflowState(query=query, context=\"\", segment=\"\", suggestion=\"\")\n",
    "    return app.invoke(state)"
   ]
  },
  {
   "cell_type": "code",
   "execution_count": 25,
   "metadata": {},
   "outputs": [
    {
     "name": "stdout",
     "output_type": "stream",
     "text": [
      "\n",
      " Query: I have an urgent issue with my order!\n",
      " Context:\n",
      "Human: I have an urgent issue with my order!\n",
      "AI: Query received\n",
      "Human: I have an urgent issue with my order!\n",
      "AI: Query received\n",
      "Human: I want to buy a new phone.\n",
      "AI: Query received\n",
      "Human: What products do you offer?\n",
      "AI: Query received\n",
      "User Query: I have an urgent issue with my order!\n",
      " Segment: High-Priority Customer\n",
      " Suggestion: Offer immediate support ticket escalation.\n",
      "\n",
      " Query: I want to buy a new phone.\n",
      " Context:\n",
      "Human: I have an urgent issue with my order!\n",
      "AI: Query received\n",
      "Human: I have an urgent issue with my order!\n",
      "AI: Query received\n",
      "Human: I want to buy a new phone.\n",
      "AI: Query received\n",
      "Human: What products do you offer?\n",
      "AI: Query received\n",
      "Human: I have an urgent issue with my order!\n",
      "AI: Query received\n",
      "User Query: I want to buy a new phone.\n",
      " Segment: Potential Buyer\n",
      " Suggestion: Recommend our premium product with a 10% discount.\n",
      "\n",
      " Query: What products do you offer?\n",
      " Context:\n",
      "Human: I have an urgent issue with my order!\n",
      "AI: Query received\n",
      "Human: I have an urgent issue with my order!\n",
      "AI: Query received\n",
      "Human: I want to buy a new phone.\n",
      "AI: Query received\n",
      "Human: What products do you offer?\n",
      "AI: Query received\n",
      "Human: I have an urgent issue with my order!\n",
      "AI: Query received\n",
      "Human: I want to buy a new phone.\n",
      "AI: Query received\n",
      "User Query: What products do you offer?\n",
      " Segment: General Inquirer\n",
      " Suggestion: Provide general product information and FAQ link.\n"
     ]
    }
   ],
   "source": [
    "test_queries = [\n",
    "    \"I have an urgent issue with my order!\",\n",
    "    \"I want to buy a new phone.\",\n",
    "    \"What products do you offer?\"\n",
    "]\n",
    "\n",
    "for query in test_queries:\n",
    "    result = run_workflow(query)\n",
    "    print(f\"\\n Query: {query}\")\n",
    "    print(f\" Context:\\n{result['context']}\")\n",
    "    print(f\" Segment: {result['segment']}\")\n",
    "    print(f\" Suggestion: {result['suggestion']}\")\n"
   ]
  },
  {
   "cell_type": "code",
   "execution_count": null,
   "metadata": {},
   "outputs": [],
   "source": [
    "# Optional: view memory state\n",
    "memory.load_memory_variables({})"
   ]
  }
 ],
 "metadata": {
  "kernelspec": {
   "display_name": "myenv",
   "language": "python",
   "name": "python3"
  },
  "language_info": {
   "codemirror_mode": {
    "name": "ipython",
    "version": 3
   },
   "file_extension": ".py",
   "mimetype": "text/x-python",
   "name": "python",
   "nbconvert_exporter": "python",
   "pygments_lexer": "ipython3",
   "version": "3.9.10"
  }
 },
 "nbformat": 4,
 "nbformat_minor": 5
}
