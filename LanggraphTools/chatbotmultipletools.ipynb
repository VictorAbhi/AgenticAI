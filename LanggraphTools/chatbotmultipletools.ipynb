{
 "cells": [
  {
   "cell_type": "code",
   "execution_count": 1,
   "id": "c0097e0a",
   "metadata": {},
   "outputs": [],
   "source": [
    "# tools\n",
    "\n",
    "from langchain_community.tools import ArxivQueryRun, WikipediaQueryRun\n",
    "from langchain_community.utilities import WikipediaAPIWrapper, ArxivAPIWrapper"
   ]
  },
  {
   "cell_type": "code",
   "execution_count": 2,
   "id": "a52189ea",
   "metadata": {},
   "outputs": [
    {
     "name": "stdout",
     "output_type": "stream",
     "text": [
      "Query Arxiv for papers on a given topic\n"
     ]
    }
   ],
   "source": [
    "api_wrapper_arxiv = ArxivAPIWrapper(top_k_results=2, doc_content_chars_max=500)\n",
    "arxiv= ArxivQueryRun(api_wrapper=api_wrapper_arxiv, description=\"Query Arxiv for papers on a given topic\", name=\"arxiv_query_run\")\n",
    "\n",
    "print(arxiv.description)"
   ]
  },
  {
   "cell_type": "code",
   "execution_count": 3,
   "id": "5569bf16",
   "metadata": {},
   "outputs": [
    {
     "data": {
      "text/plain": [
       "\"Published: 2024-07-22\\nTitle: Attention Is All You Need But You Don't Need All Of It For Inference of Large Language Models\\nAuthors: Georgy Tyukin, Gbetondji J-S Dovonon, Jean Kaddour, Pasquale Minervini\\nSummary: The inference demand for LLMs has skyrocketed in recent months, and serving\\nmodels with low latencies remains challenging due to the quadratic input length\\ncomplexity of the attention layers. In this work, we investigate the effect of\\ndropping MLP and attention layers at inference time o\""
      ]
     },
     "execution_count": 3,
     "metadata": {},
     "output_type": "execute_result"
    }
   ],
   "source": [
    "arxiv.invoke(\"Attention is all you need\")"
   ]
  },
  {
   "cell_type": "code",
   "execution_count": 4,
   "id": "df91254e",
   "metadata": {},
   "outputs": [
    {
     "data": {
      "text/plain": [
       "'wiki_query_run'"
      ]
     },
     "execution_count": 4,
     "metadata": {},
     "output_type": "execute_result"
    }
   ],
   "source": [
    "api_wrapper_wiki = WikipediaAPIWrapper(top_k_results=2, doc_content_chars_max=500)\n",
    "wiki = WikipediaQueryRun(api_wrapper=api_wrapper_wiki, description=\"Query Wikipedia for information on a given topic\", name=\"wiki_query_run\")\n",
    "wiki.name"
   ]
  },
  {
   "cell_type": "code",
   "execution_count": 5,
   "id": "69addc5f",
   "metadata": {},
   "outputs": [],
   "source": [
    "from dotenv import load_dotenv\n",
    "load_dotenv()  # Loads from .env into os.environ\n",
    "\n",
    "import os\n",
    "\n",
    "# Access the keys as needed\n",
    "tavily_key = os.getenv(\"TAVILY_API_KEY\")\n",
    "groq_key = os.getenv(\"GROQ_API_KEY\")\n"
   ]
  },
  {
   "cell_type": "code",
   "execution_count": 6,
   "id": "52247a66",
   "metadata": {},
   "outputs": [
    {
     "name": "stderr",
     "output_type": "stream",
     "text": [
      "C:\\Users\\COM\\AppData\\Local\\Temp\\ipykernel_3428\\3199068605.py:3: LangChainDeprecationWarning: The class `TavilySearchResults` was deprecated in LangChain 0.3.25 and will be removed in 1.0. An updated version of the class exists in the :class:`~langchain-tavily package and should be used instead. To use it run `pip install -U :class:`~langchain-tavily` and import as `from :class:`~langchain_tavily import TavilySearch``.\n",
      "  tavily = TavilySearchResults()\n"
     ]
    },
    {
     "ename": "ValidationError",
     "evalue": "1 validation error for TavilySearchAPIWrapper\n  Value error, Did not find tavily_api_key, please add an environment variable `TAVILY_API_KEY` which contains it, or pass `tavily_api_key` as a named parameter. [type=value_error, input_value={}, input_type=dict]\n    For further information visit https://errors.pydantic.dev/2.11/v/value_error",
     "output_type": "error",
     "traceback": [
      "\u001b[1;31m---------------------------------------------------------------------------\u001b[0m",
      "\u001b[1;31mValidationError\u001b[0m                           Traceback (most recent call last)",
      "Cell \u001b[1;32mIn[6], line 3\u001b[0m\n\u001b[0;32m      1\u001b[0m \u001b[38;5;28;01mfrom\u001b[39;00m\u001b[38;5;250m \u001b[39m\u001b[38;5;21;01mlangchain_community\u001b[39;00m\u001b[38;5;21;01m.\u001b[39;00m\u001b[38;5;21;01mtools\u001b[39;00m\u001b[38;5;250m \u001b[39m\u001b[38;5;28;01mimport\u001b[39;00m TavilySearchResults\n\u001b[1;32m----> 3\u001b[0m tavily \u001b[38;5;241m=\u001b[39m \u001b[43mTavilySearchResults\u001b[49m\u001b[43m(\u001b[49m\u001b[43m)\u001b[49m\n",
      "File \u001b[1;32mc:\\Users\\COM\\Desktop\\Agentic_AI\\.venv\\lib\\site-packages\\langchain_core\\_api\\deprecation.py:222\u001b[0m, in \u001b[0;36mdeprecated.<locals>.deprecate.<locals>.finalize.<locals>.warn_if_direct_instance\u001b[1;34m(self, *args, **kwargs)\u001b[0m\n\u001b[0;32m    220\u001b[0m     warned \u001b[38;5;241m=\u001b[39m \u001b[38;5;28;01mTrue\u001b[39;00m\n\u001b[0;32m    221\u001b[0m     emit_warning()\n\u001b[1;32m--> 222\u001b[0m \u001b[38;5;28;01mreturn\u001b[39;00m wrapped(\u001b[38;5;28mself\u001b[39m, \u001b[38;5;241m*\u001b[39margs, \u001b[38;5;241m*\u001b[39m\u001b[38;5;241m*\u001b[39mkwargs)\n",
      "File \u001b[1;32mc:\\Users\\COM\\Desktop\\Agentic_AI\\.venv\\lib\\site-packages\\langchain_community\\tools\\tavily_search\\tool.py:165\u001b[0m, in \u001b[0;36mTavilySearchResults.__init__\u001b[1;34m(self, **kwargs)\u001b[0m\n\u001b[0;32m    160\u001b[0m \u001b[38;5;28;01mif\u001b[39;00m \u001b[38;5;124m\"\u001b[39m\u001b[38;5;124mtavily_api_key\u001b[39m\u001b[38;5;124m\"\u001b[39m \u001b[38;5;129;01min\u001b[39;00m kwargs:\n\u001b[0;32m    161\u001b[0m     kwargs[\u001b[38;5;124m\"\u001b[39m\u001b[38;5;124mapi_wrapper\u001b[39m\u001b[38;5;124m\"\u001b[39m] \u001b[38;5;241m=\u001b[39m TavilySearchAPIWrapper(\n\u001b[0;32m    162\u001b[0m         tavily_api_key\u001b[38;5;241m=\u001b[39mkwargs[\u001b[38;5;124m\"\u001b[39m\u001b[38;5;124mtavily_api_key\u001b[39m\u001b[38;5;124m\"\u001b[39m]\n\u001b[0;32m    163\u001b[0m     )\n\u001b[1;32m--> 165\u001b[0m \u001b[38;5;28msuper\u001b[39m()\u001b[38;5;241m.\u001b[39m\u001b[38;5;21m__init__\u001b[39m(\u001b[38;5;241m*\u001b[39m\u001b[38;5;241m*\u001b[39mkwargs)\n",
      "File \u001b[1;32mc:\\Users\\COM\\Desktop\\Agentic_AI\\.venv\\lib\\site-packages\\langchain_core\\tools\\base.py:516\u001b[0m, in \u001b[0;36mBaseTool.__init__\u001b[1;34m(self, **kwargs)\u001b[0m\n\u001b[0;32m    511\u001b[0m     msg \u001b[38;5;241m=\u001b[39m (\n\u001b[0;32m    512\u001b[0m         \u001b[38;5;124m\"\u001b[39m\u001b[38;5;124margs_schema must be a subclass of pydantic BaseModel or \u001b[39m\u001b[38;5;124m\"\u001b[39m\n\u001b[0;32m    513\u001b[0m         \u001b[38;5;124mf\u001b[39m\u001b[38;5;124m\"\u001b[39m\u001b[38;5;124ma JSON schema dict. Got: \u001b[39m\u001b[38;5;132;01m{\u001b[39;00mkwargs[\u001b[38;5;124m'\u001b[39m\u001b[38;5;124margs_schema\u001b[39m\u001b[38;5;124m'\u001b[39m]\u001b[38;5;132;01m}\u001b[39;00m\u001b[38;5;124m.\u001b[39m\u001b[38;5;124m\"\u001b[39m\n\u001b[0;32m    514\u001b[0m     )\n\u001b[0;32m    515\u001b[0m     \u001b[38;5;28;01mraise\u001b[39;00m \u001b[38;5;167;01mTypeError\u001b[39;00m(msg)\n\u001b[1;32m--> 516\u001b[0m \u001b[38;5;28msuper\u001b[39m()\u001b[38;5;241m.\u001b[39m\u001b[38;5;21m__init__\u001b[39m(\u001b[38;5;241m*\u001b[39m\u001b[38;5;241m*\u001b[39mkwargs)\n",
      "File \u001b[1;32mc:\\Users\\COM\\Desktop\\Agentic_AI\\.venv\\lib\\site-packages\\langchain_core\\load\\serializable.py:130\u001b[0m, in \u001b[0;36mSerializable.__init__\u001b[1;34m(self, *args, **kwargs)\u001b[0m\n\u001b[0;32m    128\u001b[0m \u001b[38;5;28;01mdef\u001b[39;00m\u001b[38;5;250m \u001b[39m\u001b[38;5;21m__init__\u001b[39m(\u001b[38;5;28mself\u001b[39m, \u001b[38;5;241m*\u001b[39margs: Any, \u001b[38;5;241m*\u001b[39m\u001b[38;5;241m*\u001b[39mkwargs: Any) \u001b[38;5;241m-\u001b[39m\u001b[38;5;241m>\u001b[39m \u001b[38;5;28;01mNone\u001b[39;00m:\n\u001b[0;32m    129\u001b[0m \u001b[38;5;250m    \u001b[39m\u001b[38;5;124;03m\"\"\"\"\"\"\u001b[39;00m  \u001b[38;5;66;03m# noqa: D419\u001b[39;00m\n\u001b[1;32m--> 130\u001b[0m     \u001b[38;5;28msuper\u001b[39m()\u001b[38;5;241m.\u001b[39m\u001b[38;5;21m__init__\u001b[39m(\u001b[38;5;241m*\u001b[39margs, \u001b[38;5;241m*\u001b[39m\u001b[38;5;241m*\u001b[39mkwargs)\n",
      "    \u001b[1;31m[... skipping hidden 1 frame]\u001b[0m\n",
      "File \u001b[1;32mc:\\Users\\COM\\Desktop\\Agentic_AI\\.venv\\lib\\site-packages\\pydantic\\main.py:253\u001b[0m, in \u001b[0;36mBaseModel.__init__\u001b[1;34m(self, **data)\u001b[0m\n\u001b[0;32m    251\u001b[0m \u001b[38;5;66;03m# `__tracebackhide__` tells pytest and some other tools to omit this function from tracebacks\u001b[39;00m\n\u001b[0;32m    252\u001b[0m __tracebackhide__ \u001b[38;5;241m=\u001b[39m \u001b[38;5;28;01mTrue\u001b[39;00m\n\u001b[1;32m--> 253\u001b[0m validated_self \u001b[38;5;241m=\u001b[39m \u001b[38;5;28;43mself\u001b[39;49m\u001b[38;5;241;43m.\u001b[39;49m\u001b[43m__pydantic_validator__\u001b[49m\u001b[38;5;241;43m.\u001b[39;49m\u001b[43mvalidate_python\u001b[49m\u001b[43m(\u001b[49m\u001b[43mdata\u001b[49m\u001b[43m,\u001b[49m\u001b[43m \u001b[49m\u001b[43mself_instance\u001b[49m\u001b[38;5;241;43m=\u001b[39;49m\u001b[38;5;28;43mself\u001b[39;49m\u001b[43m)\u001b[49m\n\u001b[0;32m    254\u001b[0m \u001b[38;5;28;01mif\u001b[39;00m \u001b[38;5;28mself\u001b[39m \u001b[38;5;129;01mis\u001b[39;00m \u001b[38;5;129;01mnot\u001b[39;00m validated_self:\n\u001b[0;32m    255\u001b[0m     warnings\u001b[38;5;241m.\u001b[39mwarn(\n\u001b[0;32m    256\u001b[0m         \u001b[38;5;124m'\u001b[39m\u001b[38;5;124mA custom validator is returning a value other than `self`.\u001b[39m\u001b[38;5;130;01m\\n\u001b[39;00m\u001b[38;5;124m'\u001b[39m\n\u001b[0;32m    257\u001b[0m         \u001b[38;5;124m\"\u001b[39m\u001b[38;5;124mReturning anything other than `self` from a top level model validator isn\u001b[39m\u001b[38;5;124m'\u001b[39m\u001b[38;5;124mt supported when validating via `__init__`.\u001b[39m\u001b[38;5;130;01m\\n\u001b[39;00m\u001b[38;5;124m\"\u001b[39m\n\u001b[0;32m    258\u001b[0m         \u001b[38;5;124m'\u001b[39m\u001b[38;5;124mSee the `model_validator` docs (https://docs.pydantic.dev/latest/concepts/validators/#model-validators) for more details.\u001b[39m\u001b[38;5;124m'\u001b[39m,\n\u001b[0;32m    259\u001b[0m         stacklevel\u001b[38;5;241m=\u001b[39m\u001b[38;5;241m2\u001b[39m,\n\u001b[0;32m    260\u001b[0m     )\n",
      "\u001b[1;31mValidationError\u001b[0m: 1 validation error for TavilySearchAPIWrapper\n  Value error, Did not find tavily_api_key, please add an environment variable `TAVILY_API_KEY` which contains it, or pass `tavily_api_key` as a named parameter. [type=value_error, input_value={}, input_type=dict]\n    For further information visit https://errors.pydantic.dev/2.11/v/value_error"
     ]
    }
   ],
   "source": [
    "from langchain_community.tools import TavilySearchResults\n",
    "\n",
    "tavily = TavilySearchResults()"
   ]
  },
  {
   "cell_type": "code",
   "execution_count": null,
   "id": "c1e2db73",
   "metadata": {},
   "outputs": [
    {
     "data": {
      "text/plain": [
       "[{'title': 'AI News Briefs BULLETIN BOARD for July 2025',\n",
       "  'url': 'https://radicaldatascience.wordpress.com/2025/07/17/ai-news-briefs-bulletin-board-for-july-2025/',\n",
       "  'content': '[7/14/2025] Windsurf’s CEO goes to Google; OpenAI’s acquisition falls apart – Google DeepMind hired Windsurf CEO Varun Mohan, co-founder Douglas Chen, and key researchers after OpenAI’s $3 billion acquisition attempt failed. Google gains a nonexclusive license to Windsurf’s technology, enhancing its AI coding capabilities without direct control. Windsurf faces uncertainty as it loses top talent, continuing to offer AI coding tools with Jeff Wang as interim CEO. [...] [7/14/2025] Apple Will Seriously Consider Buying Mistral – Apple is seriously considering acquiring Mistral, a French AI startup that has raised a total of €1.1 billion over seven funding rounds. Mistral has launched a range of large and small language models over the years and achieved notable success with its optical character recognition features. It is currently Europe’s biggest AI startup. The acquisition of an AI startup would provide a much-needed boost to Apple’s AI ecosystem. [...] [7/14/2025] Moonshot AI’s Kimi K2 outperforms GPT-4 in key benchmarks – Chinese startup Moonshot AI released Kimi K2, a 1 trillion parameter open-source model that matches proprietary models on complex agentic tasks. The model was trained using a novel MuonClip optimizer that prevents training crashes that plague model development, potentially saving millions in computational costs.',\n",
       "  'score': 0.81524754},\n",
       " {'title': 'AI News & Artificial Intelligence | TechCrunch',\n",
       "  'url': 'https://techcrunch.com/category/artificial-intelligence/',\n",
       "  'content': \"### OpenAI, Thinking Machines Lab, and the built-in chaos of a $2B seed round\\n\\nThe Meta AI app is displayed on a mobile phone with the Meta AI logo visible on a tablet in this photo illustration\\n\\n### Meta refuses to sign EU’s AI code of practice\\n\\nGeneral views of the Netflix Hollywood campus on Vine on April 19, 2022 in Hollywood, California.\\n\\n### Netflix starts using GenAI in its shows and films\\n\\nPerplexity AI logo is seen on a smartphone and on a PC screen. [...] ### Confident Security, ‘the Signal for AI,’ comes out of stealth with $4.2M\\n\\nUAE flag flying in front of ocean/skyline\\n\\n### UAE’s deal to buy Nvidia AI chips reportedly on hold\\n\\nLovable team (Rights: Anton Osika)\\n\\n### Lovable becomes a unicorn with $200M Series A just 8 months after launch\\n\\nQpiAI Indus quantum computer\\n\\n### India eyes global quantum computer push — and QpiAI is its chosen vehicle\\n\\n### Scale AI lays off 14% of staff, largely in data-labeling business\\n\\nElon Musk [...] ### OpenAI and Anthropic researchers decry ‘reckless’ safety culture at Elon Musk’s xAI\\n\\nNvidia logo\\n\\n### Nvidia’s resumption of H20 chip sales related to rare-earth element trade talks\\n\\nxAI anime\\n\\n### xAI is hiring an engineer to make anime girls\\n\\nThe Google logo can be seen on the facade in front of the company's Munich headquarters\\n\\n### Google rolls out AI-powered business-calling feature, brings Gemini 2.5 Pro to AI Mode\\n\\nChatGPT welcome screen\",\n",
       "  'score': 0.68697983},\n",
       " {'title': 'The latest AI news we announced in June - Google Blog',\n",
       "  'url': 'https://blog.google/technology/ai/google-ai-updates-june-2025/',\n",
       "  'content': '# The latest AI news we announced in June\\n\\nJul 02, 2025\\n\\nHere’s a recap of some of our biggest AI updates from June, including more ways to search with AI Mode, a new way to share your NotebookLM notebooks publicly, and a new AI to help researchers better understand the human genome.\\n\\nSuperG\\n\\n## Basic explainer [...] Search finds new voice, and photos bright,  \\nWhile Chromebooks gain AI\\'s keenest edge,  \\nAnd learning\\'s path is filled with light.\\n\\nGenomes unlock, from knowledge pledge,  \\nAnd robots learn, with vision clear,  \\nWhile cancer\\'s foe meets AI\\'s siege.\\n\\nFrom Google\\'s labs, new AI doth spring,  \\nWith Gemini\\'s models taking flight,  \\nAnd tools for coders, joy to bring.\\n\\nSearch finds new voice, and photos bright,  \\nWhile Chromebooks gain AI\\'s keenest edge,  \\nAnd learning\\'s path is filled with light. [...] a text card reading \"AI to revolutionize scientific discovery\"\\n\\nWe introduced AlphaGenome: AI to better understand the human genome. Our new, unifying DNA sequence model advances regulatory variant-effect prediction and promises to shed new light on genome function. To advance scientific research, we’re making AlphaGenome available in preview via our AlphaGenome API for non-commercial research, with plans to release the model in the future.',\n",
       "  'score': 0.6816637},\n",
       " {'title': 'Artificial Intelligence News - ScienceDaily',\n",
       "  'url': 'https://www.sciencedaily.com/news/computers_math/artificial_intelligence/',\n",
       "  'content': \"ScienceDaily\\n\\n# Artificial Intelligence News\\n\\n## Top Headlines\\n\\n## Latest Headlines\\n\\n## Earlier Headlines\\n\\n### Thursday, May 22, 2025\\n\\n### Wednesday, May 21, 2025\\n\\n### Monday, May 19, 2025\\n\\n### Thursday, May 15, 2025\\n\\n### Wednesday, May 14, 2025\\n\\n### Tuesday, May 13, 2025\\n\\n### Monday, May 12, 2025\\n\\n### Thursday, May 8, 2025\\n\\n### Wednesday, May 7, 2025\\n\\n### Tuesday, May 6, 2025\\n\\n### Monday, May 5, 2025\\n\\n### Thursday, May 1, 2025\\n\\n### Wednesday, April 30, 2025\\n\\n### Monday, April 28, 2025 [...] ### Friday, April 25, 2025\\n\\n### Thursday, April 24, 2025\\n\\n### Wednesday, April 23, 2025\\n\\n### Tuesday, April 22, 2025\\n\\n### Monday, April 21, 2025\\n\\n### Wednesday, April 16, 2025\\n\\n### Tuesday, April 15, 2025\\n\\n### Monday, April 14, 2025\\n\\n### Thursday, April 10, 2025\\n\\n### Wednesday, April 9, 2025\\n\\n### Tuesday, April 8, 2025\\n\\n### Monday, April 7, 2025\\n\\n### Friday, April 4, 2025\\n\\n### Thursday, April 3, 2025\\n\\n### Wednesday, April 2, 2025\\n\\n### Monday, March 31, 2025\\n\\n### Friday, March 28, 2025 [...] ### Thursday, March 27, 2025\\n\\n### Wednesday, March 26, 2025\\n\\n### Tuesday, March 25, 2025\\n\\n### Thursday, March 20, 2025\\n\\n### Wednesday, March 19, 2025\\n\\n### Tuesday, March 18, 2025\\n\\n## Breaking\\n\\n## Trending Topics\\n\\n## Strange & Offbeat\\n\\nStay informed with ScienceDaily's free email newsletter, updated daily and weekly. Or view our many newsfeeds in your RSS reader:\\n\\nKeep up to date with the latest news from ScienceDaily via social networks:\",\n",
       "  'score': 0.6739866},\n",
       " {'title': 'Advancements in AI and Machine Learning',\n",
       "  'url': 'https://ep.jhu.edu/news/advancements-in-ai-and-machine-learning/',\n",
       "  'content': 'Today, AI has been seamlessly integrated into everyday life. Advances in ML, natural language processing (NLP), and computer vision have enabled AI to perform ever-more complex tasks such as diagnosing medical conditions, powering autonomous vehicles, and personalizing user experiences in digital platforms.\\n\\nAs AI’s evolution continues, we can expect it to further revolutionize the world through even greater efficiency and new avenues for technological development. [...] The field of generative AI has seen remarkable progress, particularly with the development of advanced Large Language Models (LLMs). Meta’s recent release of Llama 4 includes models like Scout and Maverick that are designed to handle politically and socially contentious questions more effectively than their predecessors. They demonstrate reduced political bias and can process diverse data types, including text, video, images, and audio. \\u200b [...] ### Real-World Applications of AI in Engineering\\n\\nAI  has revolutionized the entire field of engineering. Altair’s HyperWorks® platform uses geometric deep learning to deliver simulation results up to 1,000 times faster than previous methods. This allows engineers to focus on higher-value tasks without losing accuracy. \\u200b',\n",
       "  'score': 0.49729064}]"
      ]
     },
     "execution_count": 9,
     "metadata": {},
     "output_type": "execute_result"
    }
   ],
   "source": [
    "tavily.invoke(\"Provide me the current AI news.\")"
   ]
  },
  {
   "cell_type": "code",
   "execution_count": null,
   "id": "996e2ce9",
   "metadata": {},
   "outputs": [],
   "source": [
    "## combine all these tools in the list\n",
    "tools = [arxiv, wiki, tavily]\n"
   ]
  },
  {
   "cell_type": "code",
   "execution_count": null,
   "id": "7a6515da",
   "metadata": {},
   "outputs": [],
   "source": [
    "## initialize the LLM model\n",
    "from langchain_groq import ChatGroq\n",
    "\n",
    "llm = ChatGroq(\n",
    "    model=\"qwen/qwen3-32b\",\n",
    "    api_key=groq_key\n",
    "    \n",
    "    )"
   ]
  },
  {
   "cell_type": "code",
   "execution_count": null,
   "id": "6fccc05f",
   "metadata": {},
   "outputs": [
    {
     "data": {
      "text/plain": [
       "AIMessage(content=\"<think>\\nOkay, the user is asking about the latest research on AI. Let me start by recalling the key areas that have been trending recently. First, there's the development of large language models like GPT-4 and other models from various companies. These models are getting bigger and more capable, with improvements in training efficiency and performance. I should mention the push towards more efficient training methods, maybe even the use of reinforcement learning from human feedback (RLHF). Oh, and there's been a lot about multimodal models that combine text, images, and maybe even audio. Projects like Google's Gemini or Meta's models come to mind.\\n\\nThen there's the area of AI alignment and safety. Researchers are really focused on making sure AI systems behave as intended, especially with the risks of large models. Techniques like constitutional AI from Anthropic or iterative alignment training from Google are probably important to note. Also, the concept of AI governance and ethical frameworks are being discussed more, especially with the EU's AI Act and other regulations taking shape.\\n\\nAnother big area is AI in healthcare. I remember reading about models that can predict diseases from medical images or genetic data. Maybe there's research on personalized medicine using AI to tailor treatments. Also, drug discovery has seen AI models that can predict protein structures or identify potential drug candidates faster. That's a huge leap from traditional methods.\\n\\nAutonomous systems and robotics are also advancing. Companies are working on more dexterous robots that can perform complex tasks, maybe using vision models and reinforcement learning. There's also progress in autonomous vehicles, though that's been a slower path. Maybe mention recent breakthroughs in how robots learn from minimal data or adapt to new environments.\\n\\nAI in environmental science is another area. Models predicting climate change impacts, optimizing energy consumption, or even managing natural resources more efficiently. For example, AI helping in renewable energy forecasting to better integrate solar and wind into the grid.\\n\\nEthical AI and bias mitigation are ongoing topics. Research into making AI systems fairer, more transparent, and less prone to perpetuate existing biases. Techniques like fairness-aware algorithms or explainable AI (XAI) are probably being explored. Also, there's the challenge of data privacy with models handling sensitive information, so federated learning and differential privacy might be relevant here.\\n\\nQuantum computing and AI integration is an emerging field. While still in early stages, combining quantum computing with AI could lead to solving problems that are currently intractable for classical computers. Some research is looking into quantum machine learning algorithms, but it's more theoretical at this point.\\n\\nI should also touch on the challenges and open questions. For instance, the energy consumption of training large models, the need for more diverse and representative datasets, and the societal impact of AI on jobs and the economy. There's also the issue of model hallucinations in LLMs and how to mitigate them.\\n\\nDon't forget to mention specific recent studies or papers. For example, the development of open-source models that are accessible to the broader research community, which helps democratize AI research. Also, the role of AI in solving complex problems like protein folding, as seen with DeepMind's AlphaFold, though that's a bit older, so maybe check if there's newer work in that space.\\n\\nWait, the user asked for the latest, so maybe focus on 2024. Let me think—there's been a surge in open-source models, like the rise of open models from organizations like Meta, Google, and others. Also, the increasing use of AI in creative fields, such as generating art, music, and writing, and the associated ethical debates around copyright and authorship.\\n\\nOh, and the recent advancements in AI agents that can perform a series of tasks autonomously, like the ones developed by Google DeepMind or other labs, which can navigate the internet, book flights, or manage tasks without human intervention. That's a step towards more general AI capabilities.\\n\\nAlso, there's been research into making AI more energy-efficient, which is crucial as models get larger. Techniques like model pruning, quantization, and knowledge distillation are being refined to reduce computational demands without sacrificing performance.\\n\\nLastly, the collaboration between AI and human experts in various domains. For example, AI tools that assist doctors in diagnosing diseases by highlighting areas of concern in medical images, or AI systems that work alongside scientists to accelerate research in physics or chemistry by analyzing large datasets and suggesting hypotheses.\\n\\nI need to organize all these points into a coherent summary, making sure to highlight the most recent and impactful research areas without getting too technical. Also, mention some specific examples or companies to illustrate the points. Avoid jargon where possible, and explain any necessary terms in simple language. Make sure to cover both the positive advancements and the ongoing challenges in the field.\\n</think>\\n\\nThe field of artificial intelligence (AI) is rapidly evolving, with groundbreaking research emerging in 2024 across multiple domains. Below is a synthesis of the latest advancements, challenges, and key areas of focus in AI research:\\n\\n---\\n\\n### **1. Large Language Models (LLMs) and Multimodal AI**\\n- **Scale and Efficiency**: Models like **GPT-4**, **Google Gemini**, **Meta’s Llama 3**, and **Anthropic’s Claude 3** continue to push the boundaries of scale, with improvements in training efficiency (e.g., sparse training) and performance on complex tasks like reasoning and code generation. \\n- **Multimodal Integration**: Research is focused on combining text, images, audio, and video into unified models (e.g., **Meta’s Llama 3** with vision capabilities, **Google’s Gemini**). These systems enable tasks like video captioning, cross-modal search, and AI-driven content creation.\\n- **Open-Source Movement**: Open-access models like **Llama 3** and **Phi-3** (Microsoft) are democratizing AI, enabling broader research and reducing reliance on proprietary systems.\\n\\n---\\n\\n### **2. AI Alignment and Safety**\\n- **Robust Alignment Techniques**: Methods like **Constitutional AI** (Anthropic) and **Iterated Amplification** (Google DeepMind) aim to align AI with human values. Recent work emphasizes iterative feedback loops and reward modeling to reduce biases and unintended behaviors.\\n- **AI Governance**: The EU’s **AI Act** (2024 implementation) and the **Biden-Harris AI Executive Order** are shaping global standards for AI safety, transparency, and accountability. Research into **impact assessments** and **risk frameworks** is accelerating.\\n- **Hallucination Mitigation**: Techniques like **retrieval-augmented generation (RAG)** and **fact-checking modules** are being refined to reduce hallucinations in LLMs.\\n\\n---\\n\\n### **3. AI in Healthcare and Biotechnology**\\n- **Medical Diagnostics**: AI models now achieve near-human performance in analyzing X-rays, MRIs, and pathology slides. For example, **Google Health** has developed tools for early detection of breast cancer and diabetic retinopathy.\\n- **Drug Discovery**: AI-driven platforms like **Insilico Medicine** and **BenevolentAI** are accelerating drug candidate discovery. Recent studies highlight AI’s role in predicting protein-drug interactions and repurposing existing drugs.\\n- **Personalized Medicine**: AI is enabling tailored treatments by analyzing genetic data and patient histories. For instance, models like **DeepMind’s AlphaFold3** now predict protein structures with near-atomic accuracy, advancing understanding of diseases.\\n\\n---\\n\\n### **4. Autonomous Systems and Robotics**\\n- **Embodied AI**: Robots like **Boston Dynamics’ Atlas** and **Tesla Optimus** are integrating vision, language, and motor skills to perform tasks in dynamic environments (e.g., warehouse automation, disaster response).\\n- **Learning from Minimal Data**: Techniques like **few-shot learning** and **meta-learning** allow robots to adapt to new tasks with minimal training data.\\n- **Autonomous Vehicles**: While progress remains cautious, AI is improving sensor fusion, real-time decision-making, and safety protocols for self-driving cars.\\n\\n---\\n\\n### **5. Environmental and Scientific Applications**\\n- **Climate Modeling**: AI is optimizing renewable energy grids and predicting climate impacts. For example, **Google DeepMind** has developed AI to forecast wind energy output with 90% accuracy.\\n- **Scientific Discovery**: AI is accelerating research in physics, chemistry, and astronomy. Tools like **AI for Science** (DeepMind) are simulating complex systems, such as plasma behavior in fusion reactors.\\n\\n---\\n\\n### **6. Ethical AI and Bias Mitigation**\\n- **Fairness and Transparency**: Researchers are developing **fairness-aware algorithms** and **explainable AI (XAI)** to address biases in hiring, lending, and criminal justice systems.\\n- **Privacy-Preserving AI**: Techniques like **federated learning** and **differential privacy** are being refined to protect sensitive data, especially in healthcare and finance.\\n\\n---\\n\\n### **7. Quantum Computing and AI Synergy**\\n- Early-stage research explores hybrid quantum-classical models for solving problems intractable for classical computers, such as **quantum chemistry simulations** and **optimization tasks**. While practical applications remain limited, theoretical advances are growing.\\n\\n---\\n\\n### **8. AI-Driven Creativity and Content Generation**\\n- **Art and Media**: AI tools like **Midjourney**, **Stability AI’s Stable Diffusion**, and **Runway ML** are redefining creative industries, though debates persist over copyright and authorship.\\n- **AI Agents**: Systems like **Google DeepMind’s Sparrow** and **Meta’s AI Tour Guide** can autonomously perform tasks (e.g., booking flights, answering questions) by integrating with external tools and databases.\\n\\n---\\n\\n### **9. Challenges and Open Questions**\\n- **Energy Consumption**: Training large models remains energy-intensive. Research into **green AI** and **neuromorphic computing** aims to reduce carbon footprints.\\n- **Generalization and Robustness**: AI systems still struggle with out-of-distribution data and adversarial attacks. Techniques like **adversarial training** and **robustness benchmarking** are critical.\\n- **Societal Impact**: Addressing job displacement, misinformation, and AI’s role in warfare remains a priority. Initiatives like the **Global Partnership on AI** are fostering international collaboration.\\n\\n---\\n\\n### **Key 2024 Trends**\\n- **AI for AI**: Using AI to automate research, such as **AutoML** (automated machine learning) and **AI-augmented science**.\\n- **AI in Education**: Tools like **AI tutors** and **personalized learning platforms** are reshaping education.\\n- **Global Collaboration**: Open-source frameworks and cross-border partnerships (e.g., **Open Philanthropy’s AI Safety Program**) are fostering innovation and safety.\\n\\n---\\n\\n### **Notable 2024 Studies and Breakthroughs**\\n- **AlphaFold3**: DeepMind’s latest model predicts interactions between proteins, DNA, RNA, and chemicals, advancing drug discovery.\\n- **LLM Energy Efficiency**: Research on **quantized models** (e.g., **Llama 3 8B**) enables deployment on edge devices without significant loss of performance.\\n- **AI Ethics Frameworks**: The **EU’s AI Act** and **U.S. Executive Order** are setting precedents for global AI regulation.\\n\\n---\\n\\n### **Conclusion**\\nAI research in 2024 is characterized by a balance between **technical innovation** and **ethical responsibility**. While breakthroughs in autonomy, healthcare, and creativity are transformative, challenges in safety, fairness, and sustainability remain critical. The interplay between open-source collaboration and proprietary development, alongside regulatory progress, will shape AI’s future trajectory. For deeper dives, platforms like **arXiv**, **Google Scholar**, and conferences like **NeurIPS** and **ICML** are excellent resources.\", additional_kwargs={}, response_metadata={'token_usage': {'completion_tokens': 2423, 'prompt_tokens': 16, 'total_tokens': 2439, 'completion_time': 6.074936028, 'prompt_time': 0.000539022, 'queue_time': 0.055865862, 'total_time': 6.07547505}, 'model_name': 'qwen/qwen3-32b', 'system_fingerprint': 'fp_f17c2eb555', 'finish_reason': 'stop', 'logprobs': None}, id='run--39c10378-1707-4bd3-8542-c2793db9dd3c-0', usage_metadata={'input_tokens': 16, 'output_tokens': 2423, 'total_tokens': 2439})"
      ]
     },
     "execution_count": 12,
     "metadata": {},
     "output_type": "execute_result"
    }
   ],
   "source": [
    "llm.invoke(\"What is the latest research on AI?\")"
   ]
  },
  {
   "cell_type": "code",
   "execution_count": null,
   "id": "f40629cf",
   "metadata": {},
   "outputs": [],
   "source": [
    "llm_with_tools = llm.bind_tools(tools=tools)"
   ]
  },
  {
   "cell_type": "code",
   "execution_count": null,
   "id": "4d747d12",
   "metadata": {},
   "outputs": [
    {
     "data": {
      "text/plain": [
       "AIMessage(content='', additional_kwargs={'reasoning_content': 'Okay, the user is asking about the latest research on AI. I need to figure out which tool to use here. Let me check the available functions. There\\'s arxiv_query_run, wiki_query_run, and tavily_search_results_json. \\n\\nArxiv is a repository for academic papers, so using arxiv_query_run would give the latest research papers. Wiki might be outdated since Wikipedia isn\\'t always the latest. Tavily seems to be a search tool, but I\\'m not sure if it\\'s specific to AI or general web search. The user wants the latest research, so arxiv is probably the best bet. Let me go with arxiv_query_run and use the query \"latest AI research\" to get recent papers.\\n', 'tool_calls': [{'id': '4y5ajkef9', 'function': {'arguments': '{\"query\":\"latest AI research\"}', 'name': 'arxiv_query_run'}, 'type': 'function'}]}, response_metadata={'token_usage': {'completion_tokens': 176, 'prompt_tokens': 271, 'total_tokens': 447, 'completion_time': 0.437325371, 'prompt_time': 0.014860098, 'queue_time': 0.057541471999999996, 'total_time': 0.452185469}, 'model_name': 'qwen/qwen3-32b', 'system_fingerprint': 'fp_f17c2eb555', 'finish_reason': 'tool_calls', 'logprobs': None}, id='run--70f632cf-bdbf-4271-ad99-f52b66c9a9b7-0', tool_calls=[{'name': 'arxiv_query_run', 'args': {'query': 'latest AI research'}, 'id': '4y5ajkef9', 'type': 'tool_call'}], usage_metadata={'input_tokens': 271, 'output_tokens': 176, 'total_tokens': 447})"
      ]
     },
     "execution_count": 14,
     "metadata": {},
     "output_type": "execute_result"
    }
   ],
   "source": [
    "### execute this call\n",
    "llm_with_tools.invoke(\"What is the latest research on AI?\")"
   ]
  },
  {
   "cell_type": "markdown",
   "id": "416047bf",
   "metadata": {},
   "source": [
    "### workflow"
   ]
  },
  {
   "cell_type": "code",
   "execution_count": null,
   "id": "81851147",
   "metadata": {},
   "outputs": [],
   "source": [
    "from typing_extensions import TypedDict\n",
    "from langchain_core.messages import AnyMessage\n",
    "from typing import Annotated\n",
    "from langgraph.graph import add_messages"
   ]
  },
  {
   "cell_type": "code",
   "execution_count": null,
   "id": "2481dcc1",
   "metadata": {},
   "outputs": [],
   "source": [
    "class State(TypedDict):\n",
    "    messages: Annotated[list[AnyMessage], add_messages]"
   ]
  },
  {
   "cell_type": "code",
   "execution_count": null,
   "id": "47e2cd98",
   "metadata": {},
   "outputs": [],
   "source": [
    "### entire chatbot with LangGraph\n",
    "from IPython.display import Image,display\n",
    "from langgraph.graph import StateGraph, START, END\n",
    "from langgraph.prebuilt import ToolNode\n",
    "from langgraph.prebuilt import tools_condition"
   ]
  },
  {
   "cell_type": "code",
   "execution_count": null,
   "id": "970974dd",
   "metadata": {},
   "outputs": [
    {
     "data": {
      "image/png": "[encoded data removed]",
      "text/plain": [
       "<IPython.core.display.Image object>"
      ]
     },
     "metadata": {},
     "output_type": "display_data"
    }
   ],
   "source": [
    "### Node defintion\n",
    "def tool_calling_llm(state: State) -> dict:\n",
    "    \"\"\"Call the LLM with the tools.\"\"\"\n",
    "    return {\"messages\":[llm_with_tools.invoke(state[\"messages\"])]}\n",
    "\n",
    "# Build the graph\n",
    "graph = StateGraph(State)\n",
    "graph.add_node(\"tool_calling_llm\", tool_calling_llm)\n",
    "graph.add_node(\"tools\", ToolNode(tools))\n",
    "\n",
    "## Edges\n",
    "graph.add_edge(START, \"tool_calling_llm\")\n",
    "graph.add_conditional_edges(\n",
    "    \"tool_calling_llm\", \n",
    "    tools_condition,\n",
    ")\n",
    "graph.add_edge(\"tools\", END)\n",
    "\n",
    "graph_ = graph.compile()\n",
    "# view\n",
    "display(Image(graph_.get_graph().draw_mermaid_png()))"
   ]
  },
  {
   "cell_type": "code",
   "execution_count": null,
   "id": "36a5d4b3",
   "metadata": {},
   "outputs": [
    {
     "name": "stdout",
     "output_type": "stream",
     "text": [
      "================================\u001b[1m Human Message \u001b[0m=================================\n",
      "\n",
      "Hey, what is the recent AI news and then please tell me about the latest research on quantum computing \n",
      "==================================\u001b[1m Ai Message \u001b[0m==================================\n",
      "Tool Calls:\n",
      "  tavily_search_results_json (rdbvn5z7j)\n",
      " Call ID: rdbvn5z7j\n",
      "  Args:\n",
      "    query: recent AI news\n",
      "  arxiv_query_run (3yc3mf050)\n",
      " Call ID: 3yc3mf050\n",
      "  Args:\n",
      "    query: quantum computing recent advancements\n",
      "=================================\u001b[1m Tool Message \u001b[0m=================================\n",
      "Name: tavily_search_results_json\n",
      "\n",
      "[{\"title\": \"The latest AI news we announced in June - Google Blog\", \"url\": \"https://blog.google/technology/ai/google-ai-updates-june-2025/\", \"content\": \"# The latest AI news we announced in June\\n\\nJul 02, 2025\\n\\nHere’s a recap of some of our biggest AI updates from June, including more ways to search with AI Mode, a new way to share your NotebookLM notebooks publicly, and a new AI to help researchers better understand the human genome.\\n\\nSuperG\\n\\n## Basic explainer [...] a text card reading \\\"AI to revolutionize scientific discovery\\\"\\n\\nWe introduced AlphaGenome: AI to better understand the human genome. Our new, unifying DNA sequence model advances regulatory variant-effect prediction and promises to shed new light on genome function. To advance scientific research, we’re making AlphaGenome available in preview via our AlphaGenome API for non-commercial research, with plans to release the model in the future. [...] Search finds new voice, and photos bright,  \\nWhile Chromebooks gain AI's keenest edge,  \\nAnd learning's path is filled with light.\\n\\nGenomes unlock, from knowledge pledge,  \\nAnd robots learn, with vision clear,  \\nWhile cancer's foe meets AI's siege.\\n\\nFrom Google's labs, new AI doth spring,  \\nWith Gemini's models taking flight,  \\nAnd tools for coders, joy to bring.\\n\\nSearch finds new voice, and photos bright,  \\nWhile Chromebooks gain AI's keenest edge,  \\nAnd learning's path is filled with light.\", \"score\": 0.8259413}, {\"title\": \"Artificial Intelligence News - ScienceDaily\", \"url\": \"https://www.sciencedaily.com/news/computers_math/artificial_intelligence/\", \"content\": \"ScienceDaily\\n\\n# Artificial Intelligence News\\n\\n## Top Headlines\\n\\n## Latest Headlines\\n\\n## Earlier Headlines\\n\\n### Thursday, May 22, 2025\\n\\n### Wednesday, May 21, 2025\\n\\n### Monday, May 19, 2025\\n\\n### Thursday, May 15, 2025\\n\\n### Wednesday, May 14, 2025\\n\\n### Tuesday, May 13, 2025\\n\\n### Monday, May 12, 2025\\n\\n### Thursday, May 8, 2025\\n\\n### Wednesday, May 7, 2025\\n\\n### Tuesday, May 6, 2025\\n\\n### Monday, May 5, 2025\\n\\n### Thursday, May 1, 2025\\n\\n### Wednesday, April 30, 2025\\n\\n### Monday, April 28, 2025 [...] ### Friday, April 25, 2025\\n\\n### Thursday, April 24, 2025\\n\\n### Wednesday, April 23, 2025\\n\\n### Tuesday, April 22, 2025\\n\\n### Monday, April 21, 2025\\n\\n### Wednesday, April 16, 2025\\n\\n### Tuesday, April 15, 2025\\n\\n### Monday, April 14, 2025\\n\\n### Thursday, April 10, 2025\\n\\n### Wednesday, April 9, 2025\\n\\n### Tuesday, April 8, 2025\\n\\n### Monday, April 7, 2025\\n\\n### Friday, April 4, 2025\\n\\n### Thursday, April 3, 2025\\n\\n### Wednesday, April 2, 2025\\n\\n### Monday, March 31, 2025\\n\\n### Friday, March 28, 2025\", \"score\": 0.8116913}, {\"title\": \"AI Update, July 11, 2025: AI News and Views From the Past Two ...\", \"url\": \"https://www.marketingprofs.com/opinions/2025/53420/ai-update-july-11-2025-ai-news-and-views-from-the-past-two-weeks\", \"content\": \"Capgemini acquires WNS for $3.3B to boost AI transformation services. Capgemini announced it will acquire outsourcing firm WNS for $3.3 billion to expand its AI-driven business process services. The deal adds WNS's data analytics and automation expertise, targeting cost efficiency and digital transformation for clients like T-Mobile and Coca-Cola. While immediately accretive to earnings, analysts expressed concern over GenAI disrupting traditional outsourcing models. Importance for marketers: [...] EU to enforce AI rules on schedule despite industry pushback. The European Commission reaffirmed that its AI Act will proceed as scheduled, with general-purpose model obligations beginning in August 2025 and high-risk systems in 2026. Companies had lobbied for delays, citing cost and complexity. The Commission remains firm, emphasizing legal deadlines are binding. Importance for marketers: Companies using or deploying AI in the EU must prepare for upcoming compliance deadlines—particularly [...] Baidu launches business-focused AI video tool and revamps search. Baidu released MuseSteamer, an AI-powered video generator for businesses, with versions tailored to different levels of performance. Unlike rivals like OpenAI's Sora, MuseSteamer is business-only for now. The company also upgraded its search engine to support longer queries and voice/image inputs, powered by its internal AI. The moves come as competition intensifies in China from ByteDance and Tencent. Importance for marketers:\", \"score\": 0.7623715}, {\"title\": \"Top 11 New Technologies in AI: Exploring the Latest Trends - devabit\", \"url\": \"https://devabit.com/blog/top-11-new-technologies-in-ai-exploring-the-latest-trends/\", \"content\": \"A recent LinkedIn US Executive Confidence Index Survey from June 2023 reflects an optimistic outlook: 47% of executives believe generative AI will boost productivity; 44% plan to augment their newest AI technology utilization in the coming year; and 40% view AI as a key to unlocking growth and revenue. Microsoft's 2023 Work Trend Index further bolsters this sentiment, revealing that a whopping 70% of individuals would gladly delegate tasks to AI to ease their workloads. [...] GPT-3.5 and GPT-4 are just the beginning. The pace of AI model development suggests that even more capable language models are on the horizon, with implications for industries ranging from content creation to virtual assistants.\\n\\nOn November 6, 2023, CEO of OpenAI Sam Altman introduced a completely new version of Chat GPT that includes GPTs, Chat GPT Store, GPT-4 Turbo, and other new technologies in AI that we are going to describe in this article. [...] The breakthrough came with the development of deep learning models like GPT. GPT-1, introduced by OpenAI in 2018, marked a significant leap in chatbot capabilities. It could generate contextually relevant text, even though it had limitations. GPT-2, released in 2019, was known for its ability to generate human-like text on a larger scale. However, its release was initially controversial due to concerns about potential misuse. GPT-3, released in 2020, further improved upon its predecessors and\", \"score\": 0.72814995}, {\"title\": \"The 2025 AI Index Report | Stanford HAI\", \"url\": \"https://hai.stanford.edu/ai-index/2025-ai-index-report\", \"content\": \"In 2024, U.S. federal agencies introduced 59 AI-related regulations—more than double the number in 2023—and issued by twice as many agencies. Globally, legislative mentions of AI rose 21.3% across 75 countries since 2023, marking a ninefold increase since 2016. Alongside growing attention, governments are investing at scale: Canada pledged $2.4 billion, China launched a $47.5 billion semiconductor fund, France committed €109 billion, India pledged $1.25 billion, and Saudi Arabia’s Project [...] ### 2. AI is increasingly embedded in everyday life.\\n\\nFrom healthcare to transportation, AI is rapidly moving from the lab to daily life. In 2023, the FDA approved 223 AI-enabled medical devices, up from just six in 2015. On the roads, self-driving cars are no longer experimental: Waymo, one of the largest U.S. operators, provides over 150,000 autonomous rides each week, while Baidu’s affordable Apollo Go robotaxi fleet now serves numerous cities across China. [...] In 2024, U.S. private AI investment grew to $109.1 billion—nearly 12 times China’s $9.3 billion and 24 times the U.K.’s $4.5 billion. Generative AI saw particularly strong momentum, attracting $33.9 billion globally in private investment—an 18.7% increase from 2023. AI business usage is also accelerating: 78% of organizations reported using AI in 2024, up from 55% the year before. Meanwhile, a growing body of research confirms that AI boosts productivity and, in most cases, helps narrow skill\", \"score\": 0.68090034}]\n",
      "=================================\u001b[1m Tool Message \u001b[0m=================================\n",
      "Name: arxiv_query_run\n",
      "\n",
      "Published: 2024-09-17\n",
      "Title: IBM Quantum Computers: Evolution, Performance, and Future Directions\n",
      "Authors: M. AbuGhanem\n",
      "Summary: Quantum computers represent a transformative frontier in computational\n",
      "technology, promising exponential speedups beyond classical computing limits.\n",
      "IBM Quantum has led significant advancements in both hardware and software,\n",
      "providing access to quantum hardware via IBM Cloud since 2016, achieving a\n",
      "milestone with the world's first accessible quantum computer. This arti\n"
     ]
    }
   ],
   "source": [
    "\n",
    "messages = graph_.invoke({\"messages\": \"Hey, what is the recent AI news and then please tell me about the latest research on quantum computing \"})\n",
    "for message in messages[\"messages\"]:\n",
    "    message.pretty_print()"
   ]
  },
  {
   "cell_type": "code",
   "execution_count": null,
   "id": "57180dd0",
   "metadata": {},
   "outputs": [
    {
     "data": {
      "image/png": "[encoded data removed]",
      "text/plain": [
       "<IPython.core.display.Image object>"
      ]
     },
     "metadata": {},
     "output_type": "display_data"
    }
   ],
   "source": [
    "### Node defintion\n",
    "def tool_calling_llm(state: State) -> dict:\n",
    "    \"\"\"Call the LLM with the tools.\"\"\"\n",
    "    return {\"messages\":[llm_with_tools.invoke(state[\"messages\"])]}\n",
    "\n",
    "# Build the graph\n",
    "graph = StateGraph(State)\n",
    "graph.add_node(\"tool_calling_llm\", tool_calling_llm)\n",
    "graph.add_node(\"tools\", ToolNode(tools))\n",
    "\n",
    "## Edges\n",
    "graph.add_edge(START, \"tool_calling_llm\")\n",
    "graph.add_conditional_edges(\n",
    "    \"tool_calling_llm\", \n",
    "    tools_condition,\n",
    ")\n",
    "graph.add_edge(\"tools\", \"tool_calling_llm\")\n",
    "\n",
    "graph_ = graph.compile()\n",
    "# view\n",
    "display(Image(graph_.get_graph().draw_mermaid_png()))"
   ]
  },
  {
   "cell_type": "code",
   "execution_count": null,
   "id": "93648f15",
   "metadata": {},
   "outputs": [
    {
     "name": "stdout",
     "output_type": "stream",
     "text": [
      "================================\u001b[1m Human Message \u001b[0m=================================\n",
      "\n",
      "Hey, what is the recent AI news and then please tell me about the latest research on quantum computing \n",
      "==================================\u001b[1m Ai Message \u001b[0m==================================\n",
      "Tool Calls:\n",
      "  tavily_search_results_json (f76nzphc7)\n",
      " Call ID: f76nzphc7\n",
      "  Args:\n",
      "    query: recent AI news 2024\n",
      "  arxiv_query_run (ccrw0p5ym)\n",
      " Call ID: ccrw0p5ym\n",
      "  Args:\n",
      "    query: latest quantum computing research\n",
      "=================================\u001b[1m Tool Message \u001b[0m=================================\n",
      "Name: tavily_search_results_json\n",
      "\n",
      "[{\"title\": \"2024: A year of extraordinary progress and advancement in AI\", \"url\": \"https://blog.google/technology/ai/2024-ai-extraordinary-progress-advancement/\", \"content\": \"This article summarizes Google's AI advancements in 2024, highlighting their commitment to responsible development.\\n Google released Gemini 2.0, a powerful AI model designed for the \\\"agentic era,\\\" and integrated it into various products.\\n They made significant progress in generative AI, releasing updates to Imagen, Veo, and MusicFX, empowering creativity.\\n Google also advanced robotics, hardware, and computing, with breakthroughs in quantum computing and chip design. [...] In December 2024, we released the first models in our Gemini 2.0 experimental series — AI models designed for the agentic era. First out of the gate was Gemini 2.0 Flash, our workhorse model, followed by prototypes from the frontiers of our agentic research including: an updated Project Astra, which explores the capabilities of a universal AI assistant; Project Mariner, an early prototype capable of taking actions in Chrome as an experimental extension; and Jules, an AI-powered code agent. [...] We continued researching misuse, conducting a study that found the two most common types of misuse were deep fakes and jailbreaks. In May, we introduced The Frontier Safety Framework, which established protocols for identifying the emerging capabilities of our most advanced AI models, and launched our AI Responsibility Lifecycle framework to the public. In October, we expanded our Responsible GenAI Toolkit to work with any LLM, giving developers more tools to build AI responsibly.\", \"score\": 0.90907925}, {\"title\": \"60 of our biggest AI announcements in 2024 - Google Blog\", \"url\": \"https://blog.google/technology/ai/google-ai-news-recap-2024/\", \"content\": \"This article highlights the top Google AI news stories from 2024.\\n Google AI made significant progress in 2024, with new features across products like Gemini, Chrome, Pixel, and Search.\\n Google AI's focus on health, travel, and education was evident in many of the year's top stories.\\n Google AI's Gemini model saw major upgrades throughout the year, with new features and expanded access. [...] Google AI had a busy year in 2024, releasing new features and updates across its products. From the launch of Gemini 1.5 and the integration of AI into Google Search to the development of new AI tools for health and education, Google AI made significant strides in 2024. As we move into 2025, Google AI is poised to continue its momentum, with new advancements in areas like quantum computing and agentic AI.\\n\\n## Bullet points [...] Google AI had a busy year in 2024, releasing new features and updates across its products. From the launch of Gemini 1.5 and the integration of AI into Google Search to the development of new AI tools for health and education, Google AI made significant strides in 2024. As we move into 2025, Google AI is poised to continue its momentum, with new advancements in areas like quantum computing and agentic AI.\", \"score\": 0.9053309}, {\"title\": \"4 ways artificial intelligence revealed the unexpected in 2024 - CNN\", \"url\": \"https://www.cnn.com/2024/12/21/science/artificial-intelligence-ai-science-2024\", \"content\": \"### CNN values your feedback\\n\\nInnovate\\n\\n# ‘A sort of superpower’: Unexpected revelations made possible by AI in 2024\\n\\nKatie Hunt\\n\\nFollow:\\n\\nScientists involved in the Vesuvius Challenge have recently scanned and released data from a fifth Herculaneum scroll, seen here.\\n\\nSign up for CNN’s Wonder Theory science newsletter. Explore the universe with news on fascinating discoveries, scientific advancements and more. [...] The project is one compelling example of the growing utility of artificial intelligence, which came of age in 2024 with the Nobel committee recognizing AI’s development and application in science for the first time: The physics prize recognized John Hopfield and Geoffrey Hinton for their fundamental discoveries in machine learning, paving the way for how artificial intelligence is used today.\\n\\nGreek text is visible in a segment of the newly scanned scroll. [...] AlphaFold is only the most high-profile of a number of AI tools being deployed in biomedical fields. Machine learning is accelerating efforts to compile an atlas of every single type of cell in the human body and discovering molecules that become new drugs, including a type of antibiotic that may work against a particularly menacing drug-resistant bacteria.\\n\\nMindy Weisberger and Taylor Nicioli contributed to this report\", \"score\": 0.82728493}, {\"title\": \"The State of AI: Global survey - McKinsey\", \"url\": \"https://www.mckinsey.com/capabilities/quantumblack/our-insights/the-state-of-ai\", \"content\": \"## C-level executives are using gen AI more than others\\n\\nIndividual use of gen AI by our respondents also increased significantly in 2024, with C-level executives leading the way (exhibit). Fifty-three percent of surveyed executives say they are regularly using gen AI at work, compared with 44 percent of midlevel managers. While we see variation in individualsâ use of gen AI across industries and regions, the data largely show widening use across the board. [...] The use of gen AI has seen a similar jump since early 2024: 71 percent of respondents say their organizations regularly use gen AI in at least one business function, up from 65 percent in early 2024.4The survey asked, âIn which of the following business functions is your organization regularly using generative AIâthat is, machine learning algorithms such as ChatGPT that can create new content, including audio, code, text, and images?â (Individualsâ use of gen AI has also grown. See [...] An increasing share of respondents report value creation within the business units using gen AI. Compared with early 2024, larger shares of respondents say that their organizationsâ gen AI use cases have increased revenue within the business units deploying them (Exhibit 12). Respondents report similar revenue increases from gen AI as they did from analytical AI activities in the previous survey. This emphasizes the need for companies to have a comprehensive approach across both AI and gen AI\", \"score\": 0.82254606}, {\"title\": \"The 2024 AI Index Report | Stanford HAI\", \"url\": \"https://hai.stanford.edu/ai-index/2024-ai-index-report\", \"content\": \"## Key Takeaways\\n\\n### AI beats humans on some tasks, but not on all.\\n\\nAI has surpassed human performance on several benchmarks, including some in image classification, visual reasoning, and English understanding. Yet it trails behind on more complex tasks like competition-level mathematics, visual commonsense reasoning and planning.\\n\\n### Industry continues to dominate frontier AI research. [...] Artificial Intelligence has leapt to the forefront of global discourse, garnering increased attention from practitioners, industry leaders, policymakers, and the general public. The diversity of opinions and debates gathered from news articles this year illustrates just how broadly AI is being investigated, studied, and applied. However, the field of AI is still evolving rapidly and even experts have a hard time understanding and tracking progress across the field. [...] Artificial Intelligence has leapt to the forefront of global discourse, garnering increased attention from practitioners, industry leaders, policymakers, and the general public. The diversity of opinions and debates gathered from news articles this year illustrates just how broadly AI is being investigated, studied, and applied. However, the field of AI is still evolving rapidly and even experts have a hard time understanding and tracking progress across the field.\", \"score\": 0.8215175}]\n",
      "=================================\u001b[1m Tool Message \u001b[0m=================================\n",
      "Name: arxiv_query_run\n",
      "\n",
      "Published: 2023-01-27\n",
      "Title: A Living Review of Quantum Computing for Plasma Physics\n",
      "Authors: Óscar Amaro, Diogo Cruz\n",
      "Summary: Quantum Computing promises accelerated simulation of certain classes of\n",
      "problems, in particular in plasma physics. Given the nascent interest in\n",
      "applying quantum computing techniques to study plasma systems, a compendium of\n",
      "the relevant literature would be most useful. As a novel field, new results are\n",
      "common, and it is important for researchers to stay up-to-date on the\n"
     ]
    }
   ],
   "source": [
    "\n",
    "messages = graph_.invoke({\"messages\": \"Hey, what is the recent AI news and then please tell me about the latest research on quantum computing \"})\n",
    "for message in messages[\"messages\"]:\n",
    "    message.pretty_print()"
   ]
  },
  {
   "cell_type": "code",
   "execution_count": null,
   "id": "8fabbecc",
   "metadata": {},
   "outputs": [],
   "source": []
  }
 ],
 "metadata": {
  "kernelspec": {
   "display_name": "Agentic_AI (3.9.23)",
   "language": "python",
   "name": "python3"
  },
  "language_info": {
   "codemirror_mode": {
    "name": "ipython",
    "version": 3
   },
   "file_extension": ".py",
   "mimetype": "text/x-python",
   "name": "python",
   "nbconvert_exporter": "python",
   "pygments_lexer": "ipython3",
   "version": "3.9.23"
  }
 },
 "nbformat": 4,
 "nbformat_minor": 5
}
